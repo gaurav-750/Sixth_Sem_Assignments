{
 "cells": [
  {
   "cell_type": "code",
   "execution_count": 6,
   "id": "3106e8c1",
   "metadata": {},
   "outputs": [
    {
     "name": "stdout",
     "output_type": "stream",
     "text": [
      "Defaulting to user installation because normal site-packages is not writeable\n",
      "Requirement already satisfied: nltk in c:\\users\\gaurav\\appdata\\roaming\\python\\python310\\site-packages (3.8.1)\n",
      "Requirement already satisfied: joblib in c:\\users\\gaurav\\appdata\\roaming\\python\\python310\\site-packages (from nltk) (1.2.0)\n",
      "Requirement already satisfied: click in c:\\users\\gaurav\\appdata\\roaming\\python\\python310\\site-packages (from nltk) (8.1.3)\n",
      "Requirement already satisfied: regex>=2021.8.3 in c:\\users\\gaurav\\appdata\\roaming\\python\\python310\\site-packages (from nltk) (2023.5.5)\n",
      "Requirement already satisfied: tqdm in c:\\users\\gaurav\\appdata\\roaming\\python\\python310\\site-packages (from nltk) (4.65.0)\n",
      "Requirement already satisfied: colorama in c:\\users\\gaurav\\appdata\\roaming\\python\\python310\\site-packages (from click->nltk) (0.4.6)\n"
     ]
    },
    {
     "name": "stderr",
     "output_type": "stream",
     "text": [
      "\n",
      "[notice] A new release of pip is available: 23.0.1 -> 23.1.2\n",
      "[notice] To update, run: python.exe -m pip install --upgrade pip\n"
     ]
    }
   ],
   "source": [
    "!pip install nltk"
   ]
  },
  {
   "cell_type": "code",
   "execution_count": 14,
   "id": "555dad0f",
   "metadata": {},
   "outputs": [],
   "source": [
    "import nltk\n",
    "from nltk.tokenize import word_tokenize, sent_tokenize"
   ]
  },
  {
   "cell_type": "code",
   "execution_count": 39,
   "id": "2350996d",
   "metadata": {},
   "outputs": [
    {
     "name": "stderr",
     "output_type": "stream",
     "text": [
      "[nltk_data] Downloading package punkt to\n",
      "[nltk_data]     C:\\Users\\Gaurav\\AppData\\Roaming\\nltk_data...\n",
      "[nltk_data]   Package punkt is already up-to-date!\n",
      "[nltk_data] Downloading package wordnet to\n",
      "[nltk_data]     C:\\Users\\Gaurav\\AppData\\Roaming\\nltk_data...\n"
     ]
    },
    {
     "data": {
      "text/plain": [
       "True"
      ]
     },
     "execution_count": 39,
     "metadata": {},
     "output_type": "execute_result"
    }
   ],
   "source": [
    "nltk.download('punkt')\n",
    "nltk.download('wordnet')"
   ]
  },
  {
   "cell_type": "code",
   "execution_count": 13,
   "id": "a199f59e",
   "metadata": {},
   "outputs": [
    {
     "name": "stdout",
     "output_type": "stream",
     "text": [
      "Hello! This is assignment no 10.\n",
      "I am Gaurav Jayesh Somani.\n",
      "I am a man.\n"
     ]
    }
   ],
   "source": [
    "file_path = \"trial.txt\"\n",
    "with open(file_path) as file:\n",
    "    document = file.read() #we get the string \n",
    "\n",
    "print(document)"
   ]
  },
  {
   "cell_type": "code",
   "execution_count": 17,
   "id": "749402d8",
   "metadata": {},
   "outputs": [
    {
     "name": "stdout",
     "output_type": "stream",
     "text": [
      "tokens:  ['Hello', '!', 'This', 'is', 'assignment', 'no', '10', '.', 'I', 'am', 'Gaurav', 'Jayesh', 'Somani', '.', 'I', 'am', 'a', 'man', '.']\n",
      "sentences:  ['Hello!', 'This is assignment no 10.', 'I am Gaurav Jayesh Somani.', 'I am a man.']\n"
     ]
    }
   ],
   "source": [
    "# Tokenization\n",
    "tokens = word_tokenize(document)\n",
    "print('tokens: ', tokens)\n",
    "\n",
    "sentences = sent_tokenize(document)\n",
    "print('sentences: ', sentences)"
   ]
  },
  {
   "cell_type": "code",
   "execution_count": 24,
   "id": "7443d171",
   "metadata": {},
   "outputs": [
    {
     "name": "stdout",
     "output_type": "stream",
     "text": [
      "pos_tags:  [('Hello', 'NN'), ('!', '.'), ('This', 'DT'), ('is', 'VBZ'), ('assignment', 'JJ'), ('no', 'DT'), ('10', 'CD'), ('.', '.'), ('I', 'PRP'), ('am', 'VBP'), ('Gaurav', 'NNP'), ('Jayesh', 'NNP'), ('Somani', 'NNP'), ('.', '.'), ('I', 'PRP'), ('am', 'VBP'), ('a', 'DT'), ('man', 'NN'), ('.', '.')]\n"
     ]
    },
    {
     "name": "stderr",
     "output_type": "stream",
     "text": [
      "'nltk.download' is not recognized as an internal or external command,\n",
      "operable program or batch file.\n"
     ]
    }
   ],
   "source": [
    "!nltk.download('averaged_perceptron_tagger')\n",
    "# POS Tagging:\n",
    "from nltk import pos_tag\n",
    "\n",
    "pos_tags = pos_tag(tokens)\n",
    "print('pos_tags: ', pos_tags)"
   ]
  },
  {
   "cell_type": "code",
   "execution_count": 28,
   "id": "f065fd92",
   "metadata": {},
   "outputs": [
    {
     "name": "stdout",
     "output_type": "stream",
     "text": [
      "filtered_tokens:  ['Hello', '!', 'This', 'assignment', '10', '.', 'I', 'Gaurav', 'Jayesh', 'Somani', '.', 'I', 'man', '.']\n"
     ]
    }
   ],
   "source": [
    "# Stop Words Removal:\n",
    "from nltk.corpus import stopwords\n",
    "\n",
    "stop_words = set(stopwords.words('english'))\n",
    "# print(stop_words)\n",
    "\n",
    "# filter the tokens: remove the stop words from tokens\n",
    "filtered_tokens = []\n",
    "for token in tokens:\n",
    "    if token not in stop_words:\n",
    "        filtered_tokens.append(token)\n",
    "        \n",
    "print('filtered_tokens: ', filtered_tokens)"
   ]
  },
  {
   "cell_type": "code",
   "execution_count": 41,
   "id": "cf2b7f67",
   "metadata": {},
   "outputs": [
    {
     "name": "stdout",
     "output_type": "stream",
     "text": [
      "stemmed_tokens:  ['hello', '!', 'thi', 'assign', '10', '.', 'i', 'gaurav', 'jayesh', 'somani', '.', 'i', 'man', '.']\n"
     ]
    }
   ],
   "source": [
    "# !nltk.download('wordnet')\n",
    "# STEMMING:\n",
    "from nltk.stem import PorterStemmer, WordNetLemmatizer\n",
    "\n",
    "stemmer = PorterStemmer()\n",
    "stemmed_tokens = [stemmer.stem(token) for token in filtered_tokens]\n",
    "\n",
    "print('stemmed_tokens: ', stemmed_tokens)"
   ]
  },
  {
   "cell_type": "code",
   "execution_count": 42,
   "id": "9e654700",
   "metadata": {},
   "outputs": [
    {
     "name": "stdout",
     "output_type": "stream",
     "text": [
      "lemmatized_tokens:  ['Hello', '!', 'This', 'assignment', '10', '.', 'I', 'Gaurav', 'Jayesh', 'Somani', '.', 'I', 'man', '.']\n"
     ]
    }
   ],
   "source": [
    "\n",
    "# LEMMATIZATION:\n",
    "lemmatizer = WordNetLemmatizer()\n",
    "\n",
    "lemmatized_tokens = [lemmatizer.lemmatize(token) for token in filtered_tokens]\n",
    "print('lemmatized_tokens: ', lemmatized_tokens)\n",
    "\n"
   ]
  },
  {
   "cell_type": "code",
   "execution_count": null,
   "id": "a9da6c46",
   "metadata": {},
   "outputs": [],
   "source": []
  }
 ],
 "metadata": {
  "kernelspec": {
   "display_name": "Python 3 (ipykernel)",
   "language": "python",
   "name": "python3"
  },
  "language_info": {
   "codemirror_mode": {
    "name": "ipython",
    "version": 3
   },
   "file_extension": ".py",
   "mimetype": "text/x-python",
   "name": "python",
   "nbconvert_exporter": "python",
   "pygments_lexer": "ipython3",
   "version": "3.10.6"
  }
 },
 "nbformat": 4,
 "nbformat_minor": 5
}
