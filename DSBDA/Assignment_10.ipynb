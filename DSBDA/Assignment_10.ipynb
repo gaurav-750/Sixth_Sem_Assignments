{
 "cells": [
  {
   "cell_type": "code",
   "execution_count": 54,
   "id": "3106e8c1",
   "metadata": {},
   "outputs": [
    {
     "name": "stdout",
     "output_type": "stream",
     "text": [
      "Defaulting to user installation because normal site-packages is not writeable\n",
      "Requirement already satisfied: nltk in c:\\users\\gaurav\\appdata\\roaming\\python\\python310\\site-packages (3.8.1)\n",
      "Requirement already satisfied: regex>=2021.8.3 in c:\\users\\gaurav\\appdata\\roaming\\python\\python310\\site-packages (from nltk) (2023.5.5)\n",
      "Requirement already satisfied: click in c:\\users\\gaurav\\appdata\\roaming\\python\\python310\\site-packages (from nltk) (8.1.3)\n",
      "Requirement already satisfied: joblib in c:\\users\\gaurav\\appdata\\roaming\\python\\python310\\site-packages (from nltk) (1.2.0)\n",
      "Requirement already satisfied: tqdm in c:\\users\\gaurav\\appdata\\roaming\\python\\python310\\site-packages (from nltk) (4.65.0)\n",
      "Requirement already satisfied: colorama in c:\\users\\gaurav\\appdata\\roaming\\python\\python310\\site-packages (from click->nltk) (0.4.6)\n"
     ]
    },
    {
     "name": "stderr",
     "output_type": "stream",
     "text": [
      "\n",
      "[notice] A new release of pip is available: 23.0.1 -> 23.1.2\n",
      "[notice] To update, run: python.exe -m pip install --upgrade pip\n"
     ]
    }
   ],
   "source": [
    "!pip install nltk"
   ]
  },
  {
   "cell_type": "code",
   "execution_count": 55,
   "id": "555dad0f",
   "metadata": {},
   "outputs": [],
   "source": [
    "import nltk\n",
    "from nltk.tokenize import word_tokenize, sent_tokenize"
   ]
  },
  {
   "cell_type": "code",
   "execution_count": 56,
   "id": "2350996d",
   "metadata": {},
   "outputs": [
    {
     "name": "stderr",
     "output_type": "stream",
     "text": [
      "'nltk.download' is not recognized as an internal or external command,\n",
      "operable program or batch file.\n",
      "'nltk.download' is not recognized as an internal or external command,\n",
      "operable program or batch file.\n"
     ]
    }
   ],
   "source": [
    "!nltk.download('punkt')\n",
    "!nltk.download('wordnet')"
   ]
  },
  {
   "cell_type": "code",
   "execution_count": 57,
   "id": "a199f59e",
   "metadata": {},
   "outputs": [
    {
     "name": "stdout",
     "output_type": "stream",
     "text": [
      "This is first sentence.\n",
      "This is second sentence.\n",
      "sentence 3\n",
      "sentence 4\n"
     ]
    }
   ],
   "source": [
    "file_path = \"trial.txt\"\n",
    "with open(file_path) as file:\n",
    "    document = file.read() #we get the string \n",
    "\n",
    "print(document)"
   ]
  },
  {
   "cell_type": "code",
   "execution_count": 58,
   "id": "749402d8",
   "metadata": {},
   "outputs": [
    {
     "name": "stdout",
     "output_type": "stream",
     "text": [
      "tokens:  ['This', 'is', 'first', 'sentence', '.', 'This', 'is', 'second', 'sentence', '.', 'sentence', '3', 'sentence', '4']\n",
      "sentences:  ['This is first sentence.', 'This is second sentence.', 'sentence 3\\nsentence 4']\n"
     ]
    }
   ],
   "source": [
    "# Tokenization\n",
    "tokens = word_tokenize(document)\n",
    "print('tokens: ', tokens)\n",
    "\n",
    "sentences = sent_tokenize(document)\n",
    "print('sentences: ', sentences)"
   ]
  },
  {
   "cell_type": "code",
   "execution_count": 59,
   "id": "7443d171",
   "metadata": {},
   "outputs": [
    {
     "name": "stdout",
     "output_type": "stream",
     "text": [
      "pos_tags:  [('This', 'DT'), ('is', 'VBZ'), ('first', 'JJ'), ('sentence', 'NN'), ('.', '.'), ('This', 'DT'), ('is', 'VBZ'), ('second', 'JJ'), ('sentence', 'NN'), ('.', '.'), ('sentence', 'NN'), ('3', 'CD'), ('sentence', 'NN'), ('4', 'CD')]\n"
     ]
    },
    {
     "name": "stderr",
     "output_type": "stream",
     "text": [
      "'nltk.download' is not recognized as an internal or external command,\n",
      "operable program or batch file.\n"
     ]
    }
   ],
   "source": [
    "!nltk.download('averaged_perceptron_tagger')\n",
    "# POS Tagging:\n",
    "from nltk import pos_tag\n",
    "\n",
    "pos_tags = pos_tag(tokens)\n",
    "print('pos_tags: ', pos_tags)"
   ]
  },
  {
   "cell_type": "code",
   "execution_count": 60,
   "id": "f065fd92",
   "metadata": {},
   "outputs": [
    {
     "name": "stdout",
     "output_type": "stream",
     "text": [
      "filtered_tokens:  ['This', 'first', 'sentence', '.', 'This', 'second', 'sentence', '.', 'sentence', '3', 'sentence', '4']\n"
     ]
    }
   ],
   "source": [
    "# Stop Words Removal:\n",
    "from nltk.corpus import stopwords\n",
    "\n",
    "stop_words = set(stopwords.words('english'))\n",
    "# print(stop_words)\n",
    "\n",
    "# filter the tokens: remove the stop words from tokens\n",
    "filtered_tokens = []\n",
    "for token in tokens:\n",
    "    if token not in stop_words:\n",
    "        filtered_tokens.append(token)\n",
    "        \n",
    "print('filtered_tokens: ', filtered_tokens)"
   ]
  },
  {
   "cell_type": "code",
   "execution_count": 61,
   "id": "cf2b7f67",
   "metadata": {},
   "outputs": [
    {
     "name": "stdout",
     "output_type": "stream",
     "text": [
      "stemmed_tokens:  ['thi', 'first', 'sentenc', '.', 'thi', 'second', 'sentenc', '.', 'sentenc', '3', 'sentenc', '4']\n"
     ]
    }
   ],
   "source": [
    "# !nltk.download('wordnet')\n",
    "# STEMMING:\n",
    "from nltk.stem import PorterStemmer, WordNetLemmatizer\n",
    "\n",
    "stemmer = PorterStemmer()\n",
    "stemmed_tokens = [stemmer.stem(token) for token in filtered_tokens]\n",
    "\n",
    "print('stemmed_tokens: ', stemmed_tokens)"
   ]
  },
  {
   "cell_type": "code",
   "execution_count": 62,
   "id": "9e654700",
   "metadata": {},
   "outputs": [
    {
     "name": "stdout",
     "output_type": "stream",
     "text": [
      "lemmatized_tokens:  ['This', 'first', 'sentence', '.', 'This', 'second', 'sentence', '.', 'sentence', '3', 'sentence', '4']\n"
     ]
    }
   ],
   "source": [
    "\n",
    "# LEMMATIZATION:\n",
    "lemmatizer = WordNetLemmatizer()\n",
    "\n",
    "lemmatized_tokens = [lemmatizer.lemmatize(token) for token in filtered_tokens]\n",
    "print('lemmatized_tokens: ', lemmatized_tokens)\n",
    "\n"
   ]
  },
  {
   "cell_type": "code",
   "execution_count": 63,
   "id": "a9da6c46",
   "metadata": {},
   "outputs": [
    {
     "name": "stdout",
     "output_type": "stream",
     "text": [
      "[[0.19611614 0.39223227 0.19611614 0.78446454 0.39223227]]\n"
     ]
    },
    {
     "data": {
      "text/plain": [
       "array(['first', 'is', 'second', 'sentence', 'this'], dtype=object)"
      ]
     },
     "execution_count": 63,
     "metadata": {},
     "output_type": "execute_result"
    }
   ],
   "source": [
    "from sklearn.feature_extraction.text import TfidfVectorizer\n",
    "\n",
    "documents = [document]\n",
    "vectorizer = TfidfVectorizer()\n",
    "tfidf_matrix = vectorizer.fit_transform(documents)\n",
    "\n",
    "print(tfidf_matrix.toarray())\n",
    "vectorizer.get_feature_names_out()"
   ]
  },
  {
   "cell_type": "code",
   "execution_count": 64,
   "id": "a543327e",
   "metadata": {},
   "outputs": [
    {
     "name": "stdout",
     "output_type": "stream",
     "text": [
      "{'This': 0.09027777777777778, 'is': 0.09027777777777778, 'first': 0.08333333333333333, 'sentence.': 0.09027777777777778, 'second': 0.08333333333333333, 'sentence': 0.09027777777777778, '3': 0.08333333333333333, '4': 0.08333333333333333}\n"
     ]
    }
   ],
   "source": [
    "# Calculate the TF of each term in the document:\n",
    "tf = {}\n",
    "words = document.split()\n",
    "# print(words)\n",
    "total_words = len(words)\n",
    "\n",
    "for word in words:\n",
    "    tf[word] = (tf.get(word, 0) + 1)/total_words\n",
    "    \n",
    "print(tf)"
   ]
  },
  {
   "cell_type": "code",
   "execution_count": 69,
   "id": "69d5c21c",
   "metadata": {},
   "outputs": [
    {
     "name": "stdout",
     "output_type": "stream",
     "text": [
      "{'sentence', 'second', '4', 'This', '3', 'sentence.', 'first', 'is'}\n",
      "{'sentence': 1, 'second': 1, '4': 1, 'This': 1, '3': 1, 'sentence.': 1, 'first': 1, 'is': 1}\n",
      "{'sentence': 0.3068528194400547, 'second': 0.3068528194400547, '4': 0.3068528194400547, 'This': 0.3068528194400547, '3': 0.3068528194400547, 'sentence.': 0.3068528194400547, 'first': 0.3068528194400547, 'is': 0.3068528194400547}\n"
     ]
    }
   ],
   "source": [
    "import math\n",
    "\n",
    "# Calculate IDF:\n",
    "idf = {}\n",
    "words = set(words)\n",
    "print(words)\n",
    "for word in words:\n",
    "    idf[word] = idf.get(word, 0) + 1\n",
    "print(idf)\n",
    "\n",
    "\n",
    "for term, freq in idf.items():\n",
    "    idf[term] = 1 + math.log(1 / (freq + 1))\n",
    "\n",
    "    \n",
    "print(idf)"
   ]
  },
  {
   "cell_type": "code",
   "execution_count": null,
   "id": "1f9f8a69",
   "metadata": {},
   "outputs": [],
   "source": []
  }
 ],
 "metadata": {
  "kernelspec": {
   "display_name": "Python 3 (ipykernel)",
   "language": "python",
   "name": "python3"
  },
  "language_info": {
   "codemirror_mode": {
    "name": "ipython",
    "version": 3
   },
   "file_extension": ".py",
   "mimetype": "text/x-python",
   "name": "python",
   "nbconvert_exporter": "python",
   "pygments_lexer": "ipython3",
   "version": "3.10.6"
  }
 },
 "nbformat": 4,
 "nbformat_minor": 5
}
